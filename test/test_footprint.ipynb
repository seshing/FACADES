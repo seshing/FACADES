{
 "cells": [
  {
   "cell_type": "code",
   "execution_count": 1,
   "metadata": {},
   "outputs": [],
   "source": [
    "import sys\n",
    "sys.path.append(\"/home/xiucheng/Data1/FACADES/src/\")\n",
    "from facades.footprint import BuildingDataDownloader, harmonize_buildings\n",
    "import matplotlib.pyplot as plt\n",
    "import geopandas as gpd"
   ]
  },
  {
   "cell_type": "code",
   "execution_count": 7,
   "metadata": {},
   "outputs": [
    {
     "name": "stdout",
     "output_type": "stream",
     "text": [
      "Retrieving data from OpenStreetMap...\n",
      "123774 buildings retrieved from OpenStreetMap...\n",
      "Retrieving data from Overture...\n",
      "243345 buildings retrived from Overture...\n"
     ]
    }
   ],
   "source": [
    "# Using OSM\n",
    "downloader_osm = BuildingDataDownloader(source=\"osm\")\n",
    "osm_data = downloader_osm.download_buildings(\"Singapore\")  # City name input\n",
    "# osm_data = downloader_osm.download_buildings([8.62, 47.43, 8.63, 47.44])  # Bounding box input\n",
    "\n",
    "# # # Using Overture Maps\n",
    "downloader_overture = BuildingDataDownloader(source=\"overture\")\n",
    "overture_data = downloader_overture.download_buildings(\"Singapore\") \n",
    "# overture_data = downloader_overture.download_buildings([8.62, 47.43, 8.63, 47.44])"
   ]
  },
  {
   "cell_type": "code",
   "execution_count": 8,
   "metadata": {},
   "outputs": [],
   "source": [
    "osm_data.to_file(\"osm_data.geojson\", driver=\"GeoJSON\")\n",
    "overture_data.to_file(\"overture_data.geojson\", driver=\"GeoJSON\")"
   ]
  },
  {
   "cell_type": "code",
   "execution_count": 9,
   "metadata": {},
   "outputs": [
    {
     "data": {
      "text/html": [
       "<div>\n",
       "<style scoped>\n",
       "    .dataframe tbody tr th:only-of-type {\n",
       "        vertical-align: middle;\n",
       "    }\n",
       "\n",
       "    .dataframe tbody tr th {\n",
       "        vertical-align: top;\n",
       "    }\n",
       "\n",
       "    .dataframe thead th {\n",
       "        text-align: right;\n",
       "    }\n",
       "</style>\n",
       "<table border=\"1\" class=\"dataframe\">\n",
       "  <thead>\n",
       "    <tr style=\"text-align: right;\">\n",
       "      <th></th>\n",
       "      <th>building_id</th>\n",
       "      <th>building_type</th>\n",
       "      <th>building_floor</th>\n",
       "      <th>facade_material</th>\n",
       "      <th>geometry</th>\n",
       "    </tr>\n",
       "  </thead>\n",
       "  <tbody>\n",
       "    <tr>\n",
       "      <th>0</th>\n",
       "      <td>08b6520c0c163fff02003f36f6eb34bf</td>\n",
       "      <td>None</td>\n",
       "      <td>NaN</td>\n",
       "      <td>None</td>\n",
       "      <td>POLYGON ((103.6082 1.21925, 103.60822 1.21929,...</td>\n",
       "    </tr>\n",
       "    <tr>\n",
       "      <th>1</th>\n",
       "      <td>08b6520c0c8a3fff0200a1a6034fbc88</td>\n",
       "      <td>None</td>\n",
       "      <td>NaN</td>\n",
       "      <td>None</td>\n",
       "      <td>POLYGON ((103.61357 1.21761, 103.61362 1.21761...</td>\n",
       "    </tr>\n",
       "    <tr>\n",
       "      <th>2</th>\n",
       "      <td>08b6520c0c8a3fff02009915490dfdd4</td>\n",
       "      <td>None</td>\n",
       "      <td>NaN</td>\n",
       "      <td>None</td>\n",
       "      <td>POLYGON ((103.61367 1.2176, 103.61373 1.21758,...</td>\n",
       "    </tr>\n",
       "    <tr>\n",
       "      <th>3</th>\n",
       "      <td>08b6520c0c8a6fff02007ae040103216</td>\n",
       "      <td>None</td>\n",
       "      <td>NaN</td>\n",
       "      <td>None</td>\n",
       "      <td>POLYGON ((103.61444 1.21764, 103.61444 1.21775...</td>\n",
       "    </tr>\n",
       "    <tr>\n",
       "      <th>4</th>\n",
       "      <td>08b6520c0c88cfff02008341e78a10fb</td>\n",
       "      <td>None</td>\n",
       "      <td>NaN</td>\n",
       "      <td>None</td>\n",
       "      <td>POLYGON ((103.61229 1.2182, 103.6123 1.21827, ...</td>\n",
       "    </tr>\n",
       "    <tr>\n",
       "      <th>...</th>\n",
       "      <td>...</td>\n",
       "      <td>...</td>\n",
       "      <td>...</td>\n",
       "      <td>...</td>\n",
       "      <td>...</td>\n",
       "    </tr>\n",
       "    <tr>\n",
       "      <th>571740</th>\n",
       "      <td>08b6526a9961efff0200ff764c698d97</td>\n",
       "      <td>None</td>\n",
       "      <td>NaN</td>\n",
       "      <td>None</td>\n",
       "      <td>POLYGON ((104.08058 1.41824, 104.08059 1.41823...</td>\n",
       "    </tr>\n",
       "    <tr>\n",
       "      <th>571741</th>\n",
       "      <td>08b6526a9961efff0200e434a9fb0444</td>\n",
       "      <td>None</td>\n",
       "      <td>NaN</td>\n",
       "      <td>None</td>\n",
       "      <td>POLYGON ((104.08065 1.41827, 104.08073 1.41832...</td>\n",
       "    </tr>\n",
       "    <tr>\n",
       "      <th>571742</th>\n",
       "      <td>08b6526a9961efff02006f967b75080a</td>\n",
       "      <td>None</td>\n",
       "      <td>NaN</td>\n",
       "      <td>None</td>\n",
       "      <td>POLYGON ((104.08091 1.41839, 104.08088 1.41836...</td>\n",
       "    </tr>\n",
       "    <tr>\n",
       "      <th>571743</th>\n",
       "      <td>08b6526a996f5fff02008fb6e7d47841</td>\n",
       "      <td>None</td>\n",
       "      <td>NaN</td>\n",
       "      <td>None</td>\n",
       "      <td>POLYGON ((104.07979 1.41888, 104.07977 1.41891...</td>\n",
       "    </tr>\n",
       "    <tr>\n",
       "      <th>571744</th>\n",
       "      <td>08b6526a99156fff0200b6e05e4fa48c</td>\n",
       "      <td>None</td>\n",
       "      <td>NaN</td>\n",
       "      <td>None</td>\n",
       "      <td>POLYGON ((104.08447 1.40681, 104.0846 1.40678,...</td>\n",
       "    </tr>\n",
       "  </tbody>\n",
       "</table>\n",
       "<p>243345 rows × 5 columns</p>\n",
       "</div>"
      ],
      "text/plain": [
       "                             building_id building_type  building_floor  \\\n",
       "0       08b6520c0c163fff02003f36f6eb34bf          None             NaN   \n",
       "1       08b6520c0c8a3fff0200a1a6034fbc88          None             NaN   \n",
       "2       08b6520c0c8a3fff02009915490dfdd4          None             NaN   \n",
       "3       08b6520c0c8a6fff02007ae040103216          None             NaN   \n",
       "4       08b6520c0c88cfff02008341e78a10fb          None             NaN   \n",
       "...                                  ...           ...             ...   \n",
       "571740  08b6526a9961efff0200ff764c698d97          None             NaN   \n",
       "571741  08b6526a9961efff0200e434a9fb0444          None             NaN   \n",
       "571742  08b6526a9961efff02006f967b75080a          None             NaN   \n",
       "571743  08b6526a996f5fff02008fb6e7d47841          None             NaN   \n",
       "571744  08b6526a99156fff0200b6e05e4fa48c          None             NaN   \n",
       "\n",
       "       facade_material                                           geometry  \n",
       "0                 None  POLYGON ((103.6082 1.21925, 103.60822 1.21929,...  \n",
       "1                 None  POLYGON ((103.61357 1.21761, 103.61362 1.21761...  \n",
       "2                 None  POLYGON ((103.61367 1.2176, 103.61373 1.21758,...  \n",
       "3                 None  POLYGON ((103.61444 1.21764, 103.61444 1.21775...  \n",
       "4                 None  POLYGON ((103.61229 1.2182, 103.6123 1.21827, ...  \n",
       "...                ...                                                ...  \n",
       "571740            None  POLYGON ((104.08058 1.41824, 104.08059 1.41823...  \n",
       "571741            None  POLYGON ((104.08065 1.41827, 104.08073 1.41832...  \n",
       "571742            None  POLYGON ((104.08091 1.41839, 104.08088 1.41836...  \n",
       "571743            None  POLYGON ((104.07979 1.41888, 104.07977 1.41891...  \n",
       "571744            None  POLYGON ((104.08447 1.40681, 104.0846 1.40678,...  \n",
       "\n",
       "[243345 rows x 5 columns]"
      ]
     },
     "execution_count": 9,
     "metadata": {},
     "output_type": "execute_result"
    }
   ],
   "source": [
    "overture_data"
   ]
  },
  {
   "cell_type": "code",
   "execution_count": 2,
   "metadata": {},
   "outputs": [],
   "source": [
    "osm_data = gpd.read_file(\"osm_data.geojson\")\n",
    "overture_data = gpd.read_file(\"overture_data.geojson\")"
   ]
  },
  {
   "cell_type": "code",
   "execution_count": 10,
   "metadata": {},
   "outputs": [
    {
     "name": "stdout",
     "output_type": "stream",
     "text": [
      "Preprocessing OSM building geometry...\n",
      "Total number of buildings in dataset: 123970.\n",
      "Removed 521 buildings with area < 20 sqm.\n",
      "Remaining buildings: 123449.\n",
      "Preprocessing external building geometry...\n",
      "Total number of buildings in dataset: 243542.\n",
      "Removed 29740 buildings with area < 20 sqm.\n",
      "Remaining buildings: 213802.\n",
      "Preprocessing OSM building attributes...\n",
      "Removed 44 buildings with invalid 'building_floor'.\n"
     ]
    },
    {
     "name": "stderr",
     "output_type": "stream",
     "text": [
      "/data/xiucheng/miniconda3/envs/facades_dev/lib/python3.9/site-packages/geopandas/geodataframe.py:2675: UserWarning: `keep_geom_type=True` in overlay resulted in 1 dropped geometries of different geometry types than df1 has. Set `keep_geom_type=False` to retain all geometries\n",
      "  return geopandas.overlay(\n",
      "/data/xiucheng/miniconda3/envs/facades_dev/lib/python3.9/site-packages/geopandas/geodataframe.py:2675: UserWarning: `keep_geom_type=True` in overlay resulted in 88257 dropped geometries of different geometry types than df1 has. Set `keep_geom_type=False` to retain all geometries\n",
      "  return geopandas.overlay(\n"
     ]
    },
    {
     "name": "stdout",
     "output_type": "stream",
     "text": [
      "126585 buildings have >=90% intersection.\n",
      "1116 attributes from external data supplemented OSM data.\n",
      "Harmonization complete!\n"
     ]
    }
   ],
   "source": [
    "ham_gdf = harmonize_buildings(osm_data, overture_data, # You can replace overture_data with other external data (make sure have the same column names)\n",
    "                              filter_by_area=20, \n",
    "                              filter_underground=True \n",
    "                              ) "
   ]
  },
  {
   "cell_type": "code",
   "execution_count": 12,
   "metadata": {},
   "outputs": [],
   "source": [
    "ham_gdf.to_file(\"harmonized_data.geojson\", driver=\"GeoJSON\")"
   ]
  },
  {
   "cell_type": "code",
   "execution_count": null,
   "metadata": {},
   "outputs": [],
   "source": []
  }
 ],
 "metadata": {
  "kernelspec": {
   "display_name": "facades_dev",
   "language": "python",
   "name": "python3"
  },
  "language_info": {
   "codemirror_mode": {
    "name": "ipython",
    "version": 3
   },
   "file_extension": ".py",
   "mimetype": "text/x-python",
   "name": "python",
   "nbconvert_exporter": "python",
   "pygments_lexer": "ipython3",
   "version": "3.9.21"
  }
 },
 "nbformat": 4,
 "nbformat_minor": 2
}
