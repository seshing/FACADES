{
 "cells": [
  {
   "cell_type": "code",
   "execution_count": 7,
   "metadata": {},
   "outputs": [],
   "source": [
    "import sys\n",
    "sys.path.append(\"/home/xiucheng/Data1/FACADES/src/\")\n",
    "from facades.footprint import BuildingDataDownloader, harmonize_buildings\n",
    "import matplotlib.pyplot as plt\n",
    "import geopandas as gp"
   ]
  },
  {
   "cell_type": "code",
   "execution_count": 2,
   "metadata": {},
   "outputs": [],
   "source": [
    "bbox = [8.552,47.372,8.554,47.376]\n",
    "city = 'Singapore'"
   ]
  },
  {
   "cell_type": "code",
   "execution_count": 3,
   "metadata": {},
   "outputs": [
    {
     "data": {
      "text/plain": [
       "[8.552, 47.372, 8.554, 47.376]"
      ]
     },
     "execution_count": 3,
     "metadata": {},
     "output_type": "execute_result"
    }
   ],
   "source": [
    "bbox"
   ]
  },
  {
   "cell_type": "code",
   "execution_count": 5,
   "metadata": {},
   "outputs": [
    {
     "name": "stdout",
     "output_type": "stream",
     "text": [
      "Retrieving data from OpenStreetMap...\n",
      "71 buildings retrieved from OpenStreetMap...\n",
      "Retrieving data from Overture...\n",
      "72 buildings retrived from Overture...\n"
     ]
    }
   ],
   "source": [
    "# Using OSM\n",
    "downloader_osm = BuildingDataDownloader(source=\"osm\")\n",
    "# osm_data = downloader_osm.download_buildings(\"Singapore\")  # City name input\n",
    "osm_data = downloader_osm.download_buildings(bbox)  # Using bbox variable\n",
    "\n",
    "# # # Using Overture Maps\n",
    "downloader_overture = BuildingDataDownloader(source=\"overture\")\n",
    "# overture_data = downloader_overture.download_buildings(\"Singapore\") \n",
    "overture_data = downloader_overture.download_buildings(bbox)"
   ]
  },
  {
   "cell_type": "code",
   "execution_count": 6,
   "metadata": {},
   "outputs": [
    {
     "name": "stdout",
     "output_type": "stream",
     "text": [
      "Preprocessing OSM building geometry...\n",
      "Total number of buildings in dataset: 71.\n",
      "Removed 3 buildings with area < 20 sqm.\n",
      "Remaining buildings: 68.\n",
      "Preprocessing external building geometry...\n",
      "Total number of buildings in dataset: 72.\n",
      "Removed 3 buildings with area < 20 sqm.\n",
      "Remaining buildings: 69.\n",
      "Preprocessing OSM building attributes...\n",
      "Removed 0 buildings with invalid 'building_floor'.\n",
      "68 buildings have >=90% intersection.\n",
      "0 attributes from external data supplemented OSM data.\n"
     ]
    },
    {
     "name": "stderr",
     "output_type": "stream",
     "text": [
      "/data/xiucheng/miniconda3/envs/facades_dev/lib/python3.9/site-packages/geopandas/geodataframe.py:2675: UserWarning: `keep_geom_type=True` in overlay resulted in 50 dropped geometries of different geometry types than df1 has. Set `keep_geom_type=False` to retain all geometries\n",
      "  return geopandas.overlay(\n"
     ]
    },
    {
     "name": "stdout",
     "output_type": "stream",
     "text": [
      "Harmonization complete!\n"
     ]
    }
   ],
   "source": [
    "ham_gdf = harmonize_buildings(osm_data, overture_data, # You can replace overture_data with other external data (make sure have the same column names)\n",
    "                              filter_by_area=20, \n",
    "                              filter_underground=True \n",
    "                              )\n",
    "ham_gdf.to_file(\"output/footprint.geojson\", driver=\"GeoJSON\")"
   ]
  },
  {
   "cell_type": "code",
   "execution_count": 8,
   "metadata": {},
   "outputs": [],
   "source": [
    "osm_data.to_file(\"osm_data.geojson\", driver=\"GeoJSON\")\n",
    "overture_data.to_file(\"overture_data.geojson\", driver=\"GeoJSON\")"
   ]
  },
  {
   "cell_type": "code",
   "execution_count": 2,
   "metadata": {},
   "outputs": [],
   "source": [
    "osm_data = gpd.read_file(\"osm_data.geojson\")\n",
    "overture_data = gpd.read_file(\"overture_data.geojson\")"
   ]
  },
  {
   "cell_type": "code",
   "execution_count": null,
   "metadata": {},
   "outputs": [],
   "source": []
  },
  {
   "cell_type": "code",
   "execution_count": null,
   "metadata": {},
   "outputs": [],
   "source": []
  }
 ],
 "metadata": {
  "kernelspec": {
   "display_name": "Python 3",
   "language": "python",
   "name": "python3"
  },
  "language_info": {
   "codemirror_mode": {
    "name": "ipython",
    "version": 3
   },
   "file_extension": ".py",
   "mimetype": "text/x-python",
   "name": "python",
   "nbconvert_exporter": "python",
   "pygments_lexer": "ipython3",
   "version": "3.9.21"
  }
 },
 "nbformat": 4,
 "nbformat_minor": 2
}
