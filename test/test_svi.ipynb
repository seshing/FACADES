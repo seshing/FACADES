{
 "cells": [
  {
   "cell_type": "code",
   "execution_count": 14,
   "metadata": {},
   "outputs": [],
   "source": [
    "import sys\n",
    "sys.path.append(\"/home/xiucheng/Data1/FACADES/src/\")\n",
    "from zensvi.download import MLYDownloader\n",
    "from facades.streetview import bbox_to_geojson, process_metadata\n",
    "from facades.streetview import geo_aov_calculator, filter_img_by_aov\n",
    "import os\n",
    "from pathlib import Path"
   ]
  },
  {
   "cell_type": "code",
   "execution_count": 2,
   "metadata": {},
   "outputs": [],
   "source": [
    "mly_api_key = \"MLY|7964780696888322|7d3bbcdfebb6c8f1e978c673f31e0fab\" # please register your own Mapillary API key at https://www.mapillary.com/dashboard/developers\n",
    "# metadata_path = f'/home/xiucheng/Data1/FACADES/test/output'\n",
    "output_path = f'/home/xiucheng/Data1/FACADES/test/output'\n",
    "kwarg = {\"image_type\": \"pano\"}\n",
    "mly_downloader = MLYDownloader(mly_api_key)"
   ]
  },
  {
   "cell_type": "code",
   "execution_count": 3,
   "metadata": {},
   "outputs": [],
   "source": [
    "bbox = [8.552,47.372,8.554,47.376]\n",
    "bbox_to_geojson(bbox).to_file(os.path.join(output_path, 'bbox.geojson'), driver='GeoJSON')\n",
    "# city = 'Singapore'"
   ]
  },
  {
   "cell_type": "code",
   "execution_count": 4,
   "metadata": {},
   "outputs": [
    {
     "name": "stdout",
     "output_type": "stream",
     "text": [
      "Getting pids...\n",
      "update_pids is set to False. So the following csv file will be used: /home/xiucheng/Data1/FACADES/test/output/mly_pids.csv\n",
      "The panorama URLs have been read from the cache\n",
      "The metadata has been downloaded\n",
      "Processing chunk 1\n",
      "Finished processing chunk 1\n"
     ]
    }
   ],
   "source": [
    "mly_downloader.download_svi(\n",
    "    output_path,  # output directory\n",
    "    input_shp_file=os.path.join(output_path, 'bbox.geojson'),  # path to the input shapefile containing the location information\n",
    "    input_place_name=\"\",  # name of the location to download\n",
    "    resolution=2048,  # resolution of the image\n",
    "    batch_size=1000,  # batch size for downloading images\n",
    "    start_date=None,  # start date for downloading images (YYYY-MM-DD)\n",
    "    end_date=None,  # end date for downloading images (YYYY-MM-DD)\n",
    "    metadata_only=True,  # if True, only metadata is downloaded\n",
    "    use_cache=True,  # if True, the cache is used\n",
    "    additional_fields=[\"all\"], # Additional fields to fetch from the API. Defaults to [\"all\"].\n",
    "    **kwarg\n",
    ")\n",
    "\n",
    "cleaned_metadata = process_metadata(os.path.join(output_path, 'pids_urls.csv'), \n",
    "                                    os.path.join(output_path, 'pids_urls_clean.csv'))"
   ]
  },
  {
   "cell_type": "code",
   "execution_count": 4,
   "metadata": {},
   "outputs": [
    {
     "name": "stderr",
     "output_type": "stream",
     "text": [
      "Processing batches:   0%|          | 0/13 [00:00<?, ?it/s]"
     ]
    },
    {
     "name": "stderr",
     "output_type": "stream",
     "text": [
      "Processing batches: 100%|██████████| 13/13 [00:00<00:00, 16.54it/s]"
     ]
    },
    {
     "name": "stdout",
     "output_type": "stream",
     "text": [
      "Geometric FoV calculation completed. Results saved to: /home/xiucheng/Data1/FACADES/test/output/aov.csv\n"
     ]
    },
    {
     "name": "stderr",
     "output_type": "stream",
     "text": [
      "\n"
     ]
    }
   ],
   "source": [
    "geo_aov_calculator(\n",
    "    img_metadata=os.path.join(output_path, 'pids_urls_clean.csv'),\n",
    "    json_dir=os.path.join(output_path, 'footprint.geojson'),\n",
    "    buffer=30, # meter\n",
    "    distance_between_points=2, # meter\n",
    "    out_dir=os.path.join(output_path, 'aov.csv'),\n",
    "    batch_size=20,\n",
    "    max_workers=4\n",
    ")"
   ]
  },
  {
   "cell_type": "code",
   "execution_count": 8,
   "metadata": {},
   "outputs": [
    {
     "name": "stdout",
     "output_type": "stream",
     "text": [
      "Selected 142 rows from 248 data points\n"
     ]
    }
   ],
   "source": [
    "filter_img_by_aov(os.path.join(output_path, 'aov.csv'), \n",
    "                    os.path.join(output_path, 'pids_urls_clean.csv'),\n",
    "                    max_aov=130, \n",
    "                    min_aov=10, \n",
    "                    max_image_per_building=5, \n",
    "                    method='by_aov').to_csv(os.path.join(output_path, 'pids_urls_select.csv'))"
   ]
  },
  {
   "cell_type": "code",
   "execution_count": 16,
   "metadata": {},
   "outputs": [
    {
     "name": "stderr",
     "output_type": "stream",
     "text": [
      "Downloading images by batch size 252:   0%|          | 0/1 [00:00<?, ?it/s]"
     ]
    },
    {
     "name": "stdout",
     "output_type": "stream",
     "text": [
      "The following csv file will be used: /home/xiucheng/Data1/FACADES/test/output/pids_urls_select.csv\n",
      "The panorama URLs have been read from the cache\n"
     ]
    },
    {
     "name": "stderr",
     "output_type": "stream",
     "text": [
      "Downloading images for batch #1: 100%|██████████| 252/252 [00:05<00:00, 45.89it/s]\n",
      "Downloading images by batch size 252: 100%|██████████| 1/1 [00:05<00:00,  5.52s/it]"
     ]
    },
    {
     "name": "stdout",
     "output_type": "stream",
     "text": [
      "The cache directory has been deleted\n"
     ]
    },
    {
     "name": "stderr",
     "output_type": "stream",
     "text": [
      "\n"
     ]
    }
   ],
   "source": [
    "mly_downloader.download_svi(\n",
    "    output_path,\n",
    "    path_pid=Path(os.path.join(output_path, 'pids_urls_select.csv')),  # if you already have a list of panorama IDs, you can specify the path to the file here\n",
    "    update_pids=False,  # if True, the list of panorama IDs will be updated. If False, the list of panorama IDs will be loaded from the path_pid file\n",
    "    resolution=2048,  # resolution of the image\n",
    "    batch_size=1000,  # batch size for downloading images\n",
    "    use_cache=True,  # if True, the cache is use\n",
    "    **kwarg)"
   ]
  },
  {
   "cell_type": "code",
   "execution_count": null,
   "metadata": {},
   "outputs": [
    {
     "name": "stderr",
     "output_type": "stream",
     "text": [
      "Downloading images for batch #2: 0it [00:00, ?it/s]  | 0/1 [00:00<?, ?it/s]\n",
      "Downloading images by batch size 252: 100%|██████████| 1/1 [00:00<00:00, 596.29it/s]"
     ]
    },
    {
     "name": "stdout",
     "output_type": "stream",
     "text": [
      "Getting pids...\n",
      "update_pids is set to False. So the following csv file will be used: /home/xiucheng/Data1/FACADES/test/output/mly_pids.csv\n",
      "The panorama URLs have been read from the cache\n",
      "The cache directory has been deleted\n"
     ]
    },
    {
     "name": "stderr",
     "output_type": "stream",
     "text": [
      "\n"
     ]
    }
   ],
   "source": [
    "# mly_downloader.download_svi(\n",
    "#     output_path,\n",
    "#     input_shp_file=os.path.join(output_path, 'bbox.geojson'), \n",
    "#     update_pids=False,  # if True, the list of panorama IDs will be updated. If False, the list of panorama IDs will be loaded from the path_pid file\n",
    "#     resolution=2048,  # resolution of the image\n",
    "#     batch_size=1000,  # batch size for downloading images\n",
    "#     use_cache=True,  # if True, the cache is use\n",
    "#     start_date=None,  # start date for downloading images (YYYY-MM-DD)\n",
    "#     end_date=None,  # end date for downloading images (YYYY-MM-DD)\n",
    "#     additional_fields=[\"all\"],\n",
    "#     **kwarg)"
   ]
  },
  {
   "cell_type": "code",
   "execution_count": null,
   "metadata": {},
   "outputs": [],
   "source": [
    "# if you want to process the metadata before downloading images, you can use the following code: \n"
   ]
  },
  {
   "cell_type": "code",
   "execution_count": null,
   "metadata": {},
   "outputs": [],
   "source": []
  }
 ],
 "metadata": {
  "kernelspec": {
   "display_name": "Python 3",
   "language": "python",
   "name": "python3"
  },
  "language_info": {
   "codemirror_mode": {
    "name": "ipython",
    "version": 3
   },
   "file_extension": ".py",
   "mimetype": "text/x-python",
   "name": "python",
   "nbconvert_exporter": "python",
   "pygments_lexer": "ipython3",
   "version": "3.9.21"
  }
 },
 "nbformat": 4,
 "nbformat_minor": 2
}
